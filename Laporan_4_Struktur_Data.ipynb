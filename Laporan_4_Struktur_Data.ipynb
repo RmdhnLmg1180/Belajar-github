{
  "nbformat": 4,
  "nbformat_minor": 0,
  "metadata": {
    "colab": {
      "name": "Laporan 4 - Struktur Data",
      "provenance": [],
      "include_colab_link": true
    },
    "kernelspec": {
      "name": "python3",
      "display_name": "Python 3"
    },
    "language_info": {
      "name": "python"
    }
  },
  "cells": [
    {
      "cell_type": "markdown",
      "metadata": {
        "id": "view-in-github",
        "colab_type": "text"
      },
      "source": [
        "<a href=\"https://colab.research.google.com/github/RmdhnLmg1180/Belajar-github/blob/main/Laporan_4_Struktur_Data.ipynb\" target=\"_parent\"><img src=\"https://colab.research.google.com/assets/colab-badge.svg\" alt=\"Open In Colab\"/></a>"
      ]
    },
    {
      "cell_type": "markdown",
      "source": [
        "# 1. Buatlah sebuah kelas untuk membuat singly linked list yang terdiri dari 2 metode:\n",
        "- menambahkan data diakhir\n",
        "- menampilkan data dari singly linked list secara iterasi"
      ],
      "metadata": {
        "id": "yatEKIN_Z_92"
      }
    },
    {
      "cell_type": "code",
      "execution_count": null,
      "metadata": {
        "id": "thYvVTuwZ3f7"
      },
      "outputs": [],
      "source": [
        "#tulis jawaban disini"
      ]
    },
    {
      "cell_type": "code",
      "source": [
        "list1 = SLinkedList()\n",
        "\n",
        "list1.append_item('Indonesia')\n",
        "list1.append_item('Amerika Serikat')\n",
        "list1.append_item('Arab Saudi')\n",
        "list1.append_item('China')\n",
        "list1.append_item('Malaysia')\n",
        "\n",
        "for val in list1.iterate_item():\n",
        "    print(val)\n",
        "\n",
        "print(\"\\nhead.data: \",list1.head.data)\n",
        "print(\"tail.data: \",list1.tail.data)"
      ],
      "metadata": {
        "colab": {
          "base_uri": "https://localhost:8080/"
        },
        "id": "pMzT7bvPaXCX",
        "outputId": "f4e3aae5-830c-4f1b-91e8-bf5746027f77"
      },
      "execution_count": null,
      "outputs": [
        {
          "output_type": "stream",
          "name": "stdout",
          "text": [
            "Indonesia\n",
            "Amerika Serikat\n",
            "Arab Saudi\n",
            "China\n",
            "Malaysia\n",
            "\n",
            "head.data:  Indonesia\n",
            "tail.data:  Malaysia\n"
          ]
        }
      ]
    },
    {
      "cell_type": "markdown",
      "source": [
        "# 2. Lengkapi program no 1 dengan tambahan untuk mencari size dari singly linked list"
      ],
      "metadata": {
        "id": "lv6KnjC4a4EL"
      }
    },
    {
      "cell_type": "code",
      "source": [
        "#tulis jawaban disini"
      ],
      "metadata": {
        "id": "vQArorfabEJQ"
      },
      "execution_count": null,
      "outputs": []
    },
    {
      "cell_type": "code",
      "source": [
        "list1 = SLinkedList()\n",
        "\n",
        "list1.append_item('Indonesia')\n",
        "list1.append_item('Amerika Serikat')\n",
        "list1.append_item('Arab Saudi')\n",
        "list1.append_item('China')\n",
        "list1.append_item('Malaysia')\n",
        "\n",
        "for val in list1.iterate_item():\n",
        "    print(val)\n",
        "\n",
        "print(\"\\nSize of the list:\",list1.count)"
      ],
      "metadata": {
        "colab": {
          "base_uri": "https://localhost:8080/"
        },
        "id": "NlzgglLLbPy2",
        "outputId": "a3c810fe-0251-403f-aad5-e6d1a51a6b31"
      },
      "execution_count": null,
      "outputs": [
        {
          "output_type": "stream",
          "name": "stdout",
          "text": [
            "Indonesia\n",
            "Amerika Serikat\n",
            "Arab Saudi\n",
            "China\n",
            "Malaysia\n",
            "\n",
            "Size of the list: 5\n"
          ]
        }
      ]
    },
    {
      "cell_type": "markdown",
      "source": [
        "# 3. Lengkapi program no 1 dengan tambahan untuk menghapus data dari singly linked list"
      ],
      "metadata": {
        "id": "m6w5f_JmbYyF"
      }
    },
    {
      "cell_type": "code",
      "source": [
        "#tulis jawaban disini"
      ],
      "metadata": {
        "id": "ooZ5-chVb138"
      },
      "execution_count": null,
      "outputs": []
    },
    {
      "cell_type": "code",
      "source": [
        "list1 = SLinkedList()\n",
        "\n",
        "list1.append_item('Indonesia')\n",
        "list1.append_item('Amerika Serikat')\n",
        "list1.append_item('Arab Saudi')\n",
        "list1.append_item('China')\n",
        "list1.append_item('Malaysia')\n",
        "\n",
        "for val in list1.iterate_item():\n",
        "    print(val)\n",
        "\n",
        "print(\"\\nAfter removing the last item from the list:\")\n",
        "list1.delete_item('China')\n",
        "for val in list1.iterate_item():\n",
        "    print(val)"
      ],
      "metadata": {
        "colab": {
          "base_uri": "https://localhost:8080/"
        },
        "id": "swm6p6l1b8mo",
        "outputId": "e243a93f-530c-49cf-8206-486a0d5a7359"
      },
      "execution_count": null,
      "outputs": [
        {
          "output_type": "stream",
          "name": "stdout",
          "text": [
            "Indonesia\n",
            "Amerika Serikat\n",
            "Arab Saudi\n",
            "China\n",
            "Malaysia\n",
            "\n",
            "After removing the last item from the list:\n",
            "Indonesia\n",
            "Amerika Serikat\n",
            "Arab Saudi\n",
            "Malaysia\n"
          ]
        }
      ]
    },
    {
      "cell_type": "markdown",
      "source": [
        "# 4. Buatlah sebuah method yang ada pada class linked list yang digunakan untuk menjumlahkan 2 buah linked list"
      ],
      "metadata": {
        "id": "FDqOjCFVcVwL"
      }
    },
    {
      "cell_type": "code",
      "source": [
        "#tulis jawaban disini"
      ],
      "metadata": {
        "id": "mXGkKtUZdMYx"
      },
      "execution_count": null,
      "outputs": []
    },
    {
      "cell_type": "code",
      "source": [
        "list1 = SLinkedList()\n",
        "list2 = SLinkedList()"
      ],
      "metadata": {
        "id": "Pi0451GndRno"
      },
      "execution_count": null,
      "outputs": []
    },
    {
      "cell_type": "code",
      "source": [
        "list1.push(1)\n",
        "list1.push(2)\n",
        "list1.push(3)\n",
        "list1.push(4)\n",
        "list1.push(5)\n",
        "print(\"List1 is \",end=' ')\n",
        "list1.printList()"
      ],
      "metadata": {
        "colab": {
          "base_uri": "https://localhost:8080/"
        },
        "id": "vMVVUNOZdhSo",
        "outputId": "94f44dce-2c1f-45c2-958c-f60d4874b06f"
      },
      "execution_count": null,
      "outputs": [
        {
          "output_type": "stream",
          "name": "stdout",
          "text": [
            "List1 is  5 4 3 2 1 "
          ]
        }
      ]
    },
    {
      "cell_type": "code",
      "source": [
        "list2.push(1)\n",
        "list2.push(2)\n",
        "print (\"List2 is\",end=' ')\n",
        "list2.printList()"
      ],
      "metadata": {
        "colab": {
          "base_uri": "https://localhost:8080/"
        },
        "id": "awqrG9ejdkfD",
        "outputId": "a2e2ce82-54e1-49c3-c13a-e1684a99eaa8"
      },
      "execution_count": null,
      "outputs": [
        {
          "output_type": "stream",
          "name": "stdout",
          "text": [
            "List2 is 2 1 "
          ]
        }
      ]
    },
    {
      "cell_type": "code",
      "source": [
        "sumlist = SLinkedList()\n",
        "sumlist.addTwoLists(list1.head, list2.head)\n",
        "print (\"Resultant list is\",end=' ')\n",
        "sumlist.printList()"
      ],
      "metadata": {
        "colab": {
          "base_uri": "https://localhost:8080/"
        },
        "id": "JqrYj19mdwMQ",
        "outputId": "73365008-fb9f-4187-dc22-51986e9988fb"
      },
      "execution_count": null,
      "outputs": [
        {
          "output_type": "stream",
          "name": "stdout",
          "text": [
            "Resultant list is 7 5 3 2 1 "
          ]
        }
      ]
    }
  ]
}